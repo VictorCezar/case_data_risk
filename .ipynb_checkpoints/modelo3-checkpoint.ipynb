{
 "cells": [
  {
   "cell_type": "markdown",
   "id": "07e32ef4-331c-43e0-af75-39d8150e320b",
   "metadata": {},
   "source": [
    "# Modelo Score de Crédito - Case Datarisk.\r"
   ]
  },
  {
   "cell_type": "markdown",
   "id": "69251960-0696-4113-8947-478584b11174",
   "metadata": {},
   "source": [
    "Notebook feito com o objetivo de criar um modelo preditivo com predição de inadimplência de cada novo pedido de crédito realizado por um cliente"
   ]
  },
  {
   "cell_type": "markdown",
   "id": "ad5edaaa-e657-484f-86da-3cc3283ccc11",
   "metadata": {},
   "source": [
    "# Pré-processamento"
   ]
  },
  {
   "cell_type": "code",
   "execution_count": 124,
   "id": "34edf1f6-8234-49ab-ae55-bbef00dcd554",
   "metadata": {},
   "outputs": [],
   "source": [
    "# Importando das bibliotecas\n",
    "import pandas as pd\n",
    "import numpy as np\n",
    "from sklearn.model_selection import train_test_split\n",
    "from sklearn.ensemble import RandomForestClassifier\n",
    "from sklearn.metrics import roc_auc_score, classification_report\n",
    "import os"
   ]
  },
  {
   "cell_type": "code",
   "execution_count": 125,
   "id": "b5e66478-a837-4e0b-b079-6c1982fb105a",
   "metadata": {},
   "outputs": [],
   "source": [
    "# Caminho dos datasets\n",
    "path = r'C:\\Users\\Victor\\Documents\\Testes de Cientistas de Dados - JR'\n",
    "\n",
    "# Carregar os dados\n",
    "base_info = pd.read_csv(os.path.join(path, 'base_info.csv'))\n",
    "base_cadastral = pd.read_csv(os.path.join(path, 'base_cadastral.csv'))\n",
    "base_pagamentos_desenvolvimento = pd.read_csv(os.path.join(path, 'base_pagamentos_desenvolvimento.csv'))\n",
    "base_pagamentos_test = pd.read_csv(os.path.join(path, 'base_pagamentos_teste.csv'))"
   ]
  },
  {
   "cell_type": "code",
   "execution_count": 126,
   "id": "637cc429-7cf3-44b5-9ebf-0ee3c8eb1720",
   "metadata": {},
   "outputs": [
    {
     "name": "stdout",
     "output_type": "stream",
     "text": [
      "Primeiras linhas de base_info:\n",
      "            ID_CLIENTE SAFRA_REF  RENDA_MES_ANTERIOR  NO_FUNCIONARIOS\n",
      "0  1661240395903230676   2018-09             16913.0             92.0\n",
      "1  8274986328479596038   2018-09            106430.0            141.0\n",
      "2   345447888460137901   2018-09            707439.0             99.0\n",
      "3  1003144834589372198   2018-09            239659.0             96.0\n",
      "4   324916756972236008   2018-09            203123.0            103.0\n",
      "\n",
      "Primeiras linhas de base_cadastral:\n",
      "            ID_CLIENTE DATA_CADASTRO DDD FLAG_PF SEGMENTO_INDUSTRIAL  \\\n",
      "0  1661240395903230676    2013-08-22  99     NaN            Serviços   \n",
      "1  8274986328479596038    2017-01-25  31     NaN            Comércio   \n",
      "2   345447888460137901    2000-08-15  75     NaN            Serviços   \n",
      "3  1003144834589372198    2017-08-06  49     NaN            Serviços   \n",
      "4   324916756972236008    2011-02-14  88     NaN            Serviços   \n",
      "\n",
      "  DOMINIO_EMAIL    PORTE CEP_2_DIG  \n",
      "0         YAHOO  PEQUENO        65  \n",
      "1         YAHOO    MEDIO        77  \n",
      "2       HOTMAIL  PEQUENO        48  \n",
      "3       OUTLOOK  PEQUENO        89  \n",
      "4         GMAIL   GRANDE        62  \n",
      "\n",
      "Primeiras linhas de base_pagamentos_desenvolvimento:\n",
      "            ID_CLIENTE SAFRA_REF DATA_EMISSAO_DOCUMENTO DATA_PAGAMENTO  \\\n",
      "0  1661240395903230676   2018-08             2018-08-17     2018-09-06   \n",
      "1  1661240395903230676   2018-08             2018-08-19     2018-09-11   \n",
      "2  1661240395903230676   2018-08             2018-08-26     2018-09-18   \n",
      "3  1661240395903230676   2018-08             2018-08-30     2018-10-11   \n",
      "4  1661240395903230676   2018-08             2018-08-31     2018-09-20   \n",
      "\n",
      "  DATA_VENCIMENTO  VALOR_A_PAGAR  TAXA  \n",
      "0      2018-09-06       35516.41  6.99  \n",
      "1      2018-09-10       17758.21  6.99  \n",
      "2      2018-09-17       17431.96  6.99  \n",
      "3      2018-10-05        1341.00  6.99  \n",
      "4      2018-09-20       21309.85  6.99  \n",
      "\n",
      "Primeiras linhas de base_pagamentos_teste:\n",
      "            ID_CLIENTE SAFRA_REF DATA_EMISSAO_DOCUMENTO DATA_VENCIMENTO  \\\n",
      "0  5058298901476893676   2021-07             2021-07-14      2021-08-04   \n",
      "1   274692171162531764   2021-07             2021-07-08      2021-08-23   \n",
      "2   274692171162531764   2021-07             2021-07-11      2021-08-25   \n",
      "3   274692171162531764   2021-07             2021-07-16      2021-08-30   \n",
      "4   465309249432033993   2021-07             2021-07-05      2021-07-30   \n",
      "\n",
      "   VALOR_A_PAGAR  TAXA  \n",
      "0       11204.75  4.99  \n",
      "1       60718.50  5.99  \n",
      "2       60718.50  5.99  \n",
      "3       62250.00  5.99  \n",
      "4       26593.95  6.99  \n"
     ]
    }
   ],
   "source": [
    "# Exibir as primeiras linhas dos datasets para entender a estrutura\n",
    "print(\"Primeiras linhas de base_info:\")\n",
    "print(base_info.head())\n",
    "\n",
    "print(\"\\nPrimeiras linhas de base_cadastral:\")\n",
    "print(base_cadastral.head())\n",
    "\n",
    "print(\"\\nPrimeiras linhas de base_pagamentos_desenvolvimento:\")\n",
    "print(base_pagamentos_desenvolvimento.head())\n",
    "\n",
    "print(\"\\nPrimeiras linhas de base_pagamentos_teste:\")\n",
    "print(base_pagamentos_test.head())"
   ]
  },
  {
   "cell_type": "code",
   "execution_count": 127,
   "id": "8788b3a6-6d38-48c1-89dd-1ccec5bfac26",
   "metadata": {},
   "outputs": [
    {
     "data": {
      "text/html": [
       "<div>\n",
       "<style scoped>\n",
       "    .dataframe tbody tr th:only-of-type {\n",
       "        vertical-align: middle;\n",
       "    }\n",
       "\n",
       "    .dataframe tbody tr th {\n",
       "        vertical-align: top;\n",
       "    }\n",
       "\n",
       "    .dataframe thead th {\n",
       "        text-align: right;\n",
       "    }\n",
       "</style>\n",
       "<table border=\"1\" class=\"dataframe\">\n",
       "  <thead>\n",
       "    <tr style=\"text-align: right;\">\n",
       "      <th></th>\n",
       "      <th>ID_CLIENTE</th>\n",
       "      <th>SAFRA_REF</th>\n",
       "      <th>ATRASO_DIAS</th>\n",
       "      <th>INADIMPLENTE</th>\n",
       "    </tr>\n",
       "  </thead>\n",
       "  <tbody>\n",
       "    <tr>\n",
       "      <th>0</th>\n",
       "      <td>1661240395903230676</td>\n",
       "      <td>2018-08</td>\n",
       "      <td>0</td>\n",
       "      <td>0</td>\n",
       "    </tr>\n",
       "    <tr>\n",
       "      <th>1</th>\n",
       "      <td>1661240395903230676</td>\n",
       "      <td>2018-08</td>\n",
       "      <td>1</td>\n",
       "      <td>0</td>\n",
       "    </tr>\n",
       "    <tr>\n",
       "      <th>2</th>\n",
       "      <td>1661240395903230676</td>\n",
       "      <td>2018-08</td>\n",
       "      <td>1</td>\n",
       "      <td>0</td>\n",
       "    </tr>\n",
       "    <tr>\n",
       "      <th>3</th>\n",
       "      <td>1661240395903230676</td>\n",
       "      <td>2018-08</td>\n",
       "      <td>6</td>\n",
       "      <td>1</td>\n",
       "    </tr>\n",
       "    <tr>\n",
       "      <th>4</th>\n",
       "      <td>1661240395903230676</td>\n",
       "      <td>2018-08</td>\n",
       "      <td>0</td>\n",
       "      <td>0</td>\n",
       "    </tr>\n",
       "  </tbody>\n",
       "</table>\n",
       "</div>"
      ],
      "text/plain": [
       "            ID_CLIENTE SAFRA_REF  ATRASO_DIAS  INADIMPLENTE\n",
       "0  1661240395903230676   2018-08            0             0\n",
       "1  1661240395903230676   2018-08            1             0\n",
       "2  1661240395903230676   2018-08            1             0\n",
       "3  1661240395903230676   2018-08            6             1\n",
       "4  1661240395903230676   2018-08            0             0"
      ]
     },
     "execution_count": 127,
     "metadata": {},
     "output_type": "execute_result"
    }
   ],
   "source": [
    "# Criação variável INADIMPLENTE\n",
    "# Converter as colunas de datas para o tipo datetime, se ainda não estiverem\n",
    "base_pagamentos_desenvolvimento['DATA_PAGAMENTO'] = pd.to_datetime(base_pagamentos_desenvolvimento['DATA_PAGAMENTO'])\n",
    "base_pagamentos_desenvolvimento['DATA_VENCIMENTO'] = pd.to_datetime(base_pagamentos_desenvolvimento['DATA_VENCIMENTO'])\n",
    "\n",
    "# Calcular o atraso em dias\n",
    "base_pagamentos_desenvolvimento['ATRASO_DIAS'] = (base_pagamentos_desenvolvimento['DATA_PAGAMENTO'] - base_pagamentos_desenvolvimento['DATA_VENCIMENTO']).dt.days\n",
    "\n",
    "# Criar a coluna INADIMPLENTE com base no critério de atraso >= 5 dias\n",
    "base_pagamentos_desenvolvimento['INADIMPLENTE'] = (base_pagamentos_desenvolvimento['ATRASO_DIAS'] >= 5).astype(int)\n",
    "\n",
    "# Verificar as primeiras linhas para confirmar a criação da coluna\n",
    "base_pagamentos_desenvolvimento[['ID_CLIENTE', 'SAFRA_REF', 'ATRASO_DIAS', 'INADIMPLENTE']].head()"
   ]
  },
  {
   "cell_type": "code",
   "execution_count": 128,
   "id": "21312b06-4a72-4300-bc0d-e52e6685e65b",
   "metadata": {},
   "outputs": [
    {
     "data": {
      "text/html": [
       "<div>\n",
       "<style scoped>\n",
       "    .dataframe tbody tr th:only-of-type {\n",
       "        vertical-align: middle;\n",
       "    }\n",
       "\n",
       "    .dataframe tbody tr th {\n",
       "        vertical-align: top;\n",
       "    }\n",
       "\n",
       "    .dataframe thead th {\n",
       "        text-align: right;\n",
       "    }\n",
       "</style>\n",
       "<table border=\"1\" class=\"dataframe\">\n",
       "  <thead>\n",
       "    <tr style=\"text-align: right;\">\n",
       "      <th></th>\n",
       "      <th>ID_CLIENTE</th>\n",
       "      <th>SAFRA_REF</th>\n",
       "      <th>DATA_EMISSAO_DOCUMENTO</th>\n",
       "      <th>DATA_PAGAMENTO</th>\n",
       "      <th>DATA_VENCIMENTO</th>\n",
       "      <th>VALOR_A_PAGAR</th>\n",
       "      <th>TAXA</th>\n",
       "      <th>ATRASO_DIAS</th>\n",
       "      <th>INADIMPLENTE</th>\n",
       "      <th>RENDA_MES_ANTERIOR</th>\n",
       "      <th>NO_FUNCIONARIOS</th>\n",
       "      <th>DATA_CADASTRO</th>\n",
       "      <th>DDD</th>\n",
       "      <th>FLAG_PF</th>\n",
       "      <th>SEGMENTO_INDUSTRIAL</th>\n",
       "      <th>DOMINIO_EMAIL</th>\n",
       "      <th>PORTE</th>\n",
       "      <th>CEP_2_DIG</th>\n",
       "    </tr>\n",
       "  </thead>\n",
       "  <tbody>\n",
       "    <tr>\n",
       "      <th>0</th>\n",
       "      <td>1661240395903230676</td>\n",
       "      <td>2018-08-01</td>\n",
       "      <td>2018-08-17</td>\n",
       "      <td>2018-09-06</td>\n",
       "      <td>2018-09-06</td>\n",
       "      <td>35516.41</td>\n",
       "      <td>6.99</td>\n",
       "      <td>0</td>\n",
       "      <td>0</td>\n",
       "      <td>NaN</td>\n",
       "      <td>NaN</td>\n",
       "      <td>2013-08-22</td>\n",
       "      <td>99</td>\n",
       "      <td>NaN</td>\n",
       "      <td>Serviços</td>\n",
       "      <td>YAHOO</td>\n",
       "      <td>PEQUENO</td>\n",
       "      <td>65</td>\n",
       "    </tr>\n",
       "    <tr>\n",
       "      <th>1</th>\n",
       "      <td>1661240395903230676</td>\n",
       "      <td>2018-08-01</td>\n",
       "      <td>2018-08-19</td>\n",
       "      <td>2018-09-11</td>\n",
       "      <td>2018-09-10</td>\n",
       "      <td>17758.21</td>\n",
       "      <td>6.99</td>\n",
       "      <td>1</td>\n",
       "      <td>0</td>\n",
       "      <td>NaN</td>\n",
       "      <td>NaN</td>\n",
       "      <td>2013-08-22</td>\n",
       "      <td>99</td>\n",
       "      <td>NaN</td>\n",
       "      <td>Serviços</td>\n",
       "      <td>YAHOO</td>\n",
       "      <td>PEQUENO</td>\n",
       "      <td>65</td>\n",
       "    </tr>\n",
       "    <tr>\n",
       "      <th>2</th>\n",
       "      <td>1661240395903230676</td>\n",
       "      <td>2018-08-01</td>\n",
       "      <td>2018-08-26</td>\n",
       "      <td>2018-09-18</td>\n",
       "      <td>2018-09-17</td>\n",
       "      <td>17431.96</td>\n",
       "      <td>6.99</td>\n",
       "      <td>1</td>\n",
       "      <td>0</td>\n",
       "      <td>NaN</td>\n",
       "      <td>NaN</td>\n",
       "      <td>2013-08-22</td>\n",
       "      <td>99</td>\n",
       "      <td>NaN</td>\n",
       "      <td>Serviços</td>\n",
       "      <td>YAHOO</td>\n",
       "      <td>PEQUENO</td>\n",
       "      <td>65</td>\n",
       "    </tr>\n",
       "    <tr>\n",
       "      <th>3</th>\n",
       "      <td>1661240395903230676</td>\n",
       "      <td>2018-08-01</td>\n",
       "      <td>2018-08-30</td>\n",
       "      <td>2018-10-11</td>\n",
       "      <td>2018-10-05</td>\n",
       "      <td>1341.00</td>\n",
       "      <td>6.99</td>\n",
       "      <td>6</td>\n",
       "      <td>1</td>\n",
       "      <td>NaN</td>\n",
       "      <td>NaN</td>\n",
       "      <td>2013-08-22</td>\n",
       "      <td>99</td>\n",
       "      <td>NaN</td>\n",
       "      <td>Serviços</td>\n",
       "      <td>YAHOO</td>\n",
       "      <td>PEQUENO</td>\n",
       "      <td>65</td>\n",
       "    </tr>\n",
       "    <tr>\n",
       "      <th>4</th>\n",
       "      <td>1661240395903230676</td>\n",
       "      <td>2018-08-01</td>\n",
       "      <td>2018-08-31</td>\n",
       "      <td>2018-09-20</td>\n",
       "      <td>2018-09-20</td>\n",
       "      <td>21309.85</td>\n",
       "      <td>6.99</td>\n",
       "      <td>0</td>\n",
       "      <td>0</td>\n",
       "      <td>NaN</td>\n",
       "      <td>NaN</td>\n",
       "      <td>2013-08-22</td>\n",
       "      <td>99</td>\n",
       "      <td>NaN</td>\n",
       "      <td>Serviços</td>\n",
       "      <td>YAHOO</td>\n",
       "      <td>PEQUENO</td>\n",
       "      <td>65</td>\n",
       "    </tr>\n",
       "  </tbody>\n",
       "</table>\n",
       "</div>"
      ],
      "text/plain": [
       "            ID_CLIENTE  SAFRA_REF DATA_EMISSAO_DOCUMENTO DATA_PAGAMENTO  \\\n",
       "0  1661240395903230676 2018-08-01             2018-08-17     2018-09-06   \n",
       "1  1661240395903230676 2018-08-01             2018-08-19     2018-09-11   \n",
       "2  1661240395903230676 2018-08-01             2018-08-26     2018-09-18   \n",
       "3  1661240395903230676 2018-08-01             2018-08-30     2018-10-11   \n",
       "4  1661240395903230676 2018-08-01             2018-08-31     2018-09-20   \n",
       "\n",
       "  DATA_VENCIMENTO  VALOR_A_PAGAR  TAXA  ATRASO_DIAS  INADIMPLENTE  \\\n",
       "0      2018-09-06       35516.41  6.99            0             0   \n",
       "1      2018-09-10       17758.21  6.99            1             0   \n",
       "2      2018-09-17       17431.96  6.99            1             0   \n",
       "3      2018-10-05        1341.00  6.99            6             1   \n",
       "4      2018-09-20       21309.85  6.99            0             0   \n",
       "\n",
       "   RENDA_MES_ANTERIOR  NO_FUNCIONARIOS DATA_CADASTRO DDD FLAG_PF  \\\n",
       "0                 NaN              NaN    2013-08-22  99     NaN   \n",
       "1                 NaN              NaN    2013-08-22  99     NaN   \n",
       "2                 NaN              NaN    2013-08-22  99     NaN   \n",
       "3                 NaN              NaN    2013-08-22  99     NaN   \n",
       "4                 NaN              NaN    2013-08-22  99     NaN   \n",
       "\n",
       "  SEGMENTO_INDUSTRIAL DOMINIO_EMAIL    PORTE CEP_2_DIG  \n",
       "0            Serviços         YAHOO  PEQUENO        65  \n",
       "1            Serviços         YAHOO  PEQUENO        65  \n",
       "2            Serviços         YAHOO  PEQUENO        65  \n",
       "3            Serviços         YAHOO  PEQUENO        65  \n",
       "4            Serviços         YAHOO  PEQUENO        65  "
      ]
     },
     "execution_count": 128,
     "metadata": {},
     "output_type": "execute_result"
    }
   ],
   "source": [
    "# Importando novamente para garantir que todas as bases foram carregadas\n",
    "base_info = pd.read_csv('base_info.csv')\n",
    "base_cadastral = pd.read_csv('base_cadastral.csv')\n",
    "\n",
    "# Convertendo tipos de dados para datas onde necessário\n",
    "base_info['SAFRA_REF'] = pd.to_datetime(base_info['SAFRA_REF'])\n",
    "base_cadastral['DATA_CADASTRO'] = pd.to_datetime(base_cadastral['DATA_CADASTRO'])\n",
    "base_pagamentos_desenvolvimento['SAFRA_REF'] = pd.to_datetime(base_pagamentos_desenvolvimento['SAFRA_REF'])\n",
    "\n",
    "# Consolidação da base_pagamentos_desenvolvimento com base_info\n",
    "dados_consolidados = base_pagamentos_desenvolvimento.merge(base_info, on=['ID_CLIENTE', 'SAFRA_REF'], how='left')\n",
    "\n",
    "# Consolidação com base_cadastral (join apenas com ID_CLIENTE)\n",
    "dados_consolidados = dados_consolidados.merge(base_cadastral, on='ID_CLIENTE', how='left')\n",
    "\n",
    "# Exibindo as primeiras linhas para verificar o resultado da consolidação\n",
    "dados_consolidados.head()"
   ]
  },
  {
   "cell_type": "code",
   "execution_count": 129,
   "id": "dd124fab-bc06-446f-b220-ce06ae37849e",
   "metadata": {},
   "outputs": [
    {
     "name": "stdout",
     "output_type": "stream",
     "text": [
      "<class 'pandas.core.frame.DataFrame'>\n",
      "RangeIndex: 77414 entries, 0 to 77413\n",
      "Data columns (total 18 columns):\n",
      " #   Column                  Non-Null Count  Dtype         \n",
      "---  ------                  --------------  -----         \n",
      " 0   ID_CLIENTE              77414 non-null  int64         \n",
      " 1   SAFRA_REF               77414 non-null  datetime64[ns]\n",
      " 2   DATA_EMISSAO_DOCUMENTO  77414 non-null  object        \n",
      " 3   DATA_PAGAMENTO          77414 non-null  datetime64[ns]\n",
      " 4   DATA_VENCIMENTO         77414 non-null  datetime64[ns]\n",
      " 5   VALOR_A_PAGAR           77414 non-null  float64       \n",
      " 6   TAXA                    77414 non-null  float64       \n",
      " 7   ATRASO_DIAS             77414 non-null  int64         \n",
      " 8   INADIMPLENTE            77414 non-null  int32         \n",
      " 9   RENDA_MES_ANTERIOR      77414 non-null  float64       \n",
      " 10  NO_FUNCIONARIOS         77414 non-null  float64       \n",
      " 11  DATA_CADASTRO           77414 non-null  datetime64[ns]\n",
      " 12  DDD                     77414 non-null  object        \n",
      " 13  FLAG_PF                 77414 non-null  object        \n",
      " 14  SEGMENTO_INDUSTRIAL     77414 non-null  object        \n",
      " 15  DOMINIO_EMAIL           77414 non-null  object        \n",
      " 16  PORTE                   77414 non-null  object        \n",
      " 17  CEP_2_DIG               77414 non-null  object        \n",
      "dtypes: datetime64[ns](4), float64(4), int32(1), int64(2), object(7)\n",
      "memory usage: 10.3+ MB\n"
     ]
    }
   ],
   "source": [
    "# Tratamento das variáveis categóricas\n",
    "dados_consolidados['DDD'] = dados_consolidados['DDD'].fillna(\"Desconhecido\")\n",
    "dados_consolidados['FLAG_PF'] = dados_consolidados['FLAG_PF'].fillna(\"Desconhecido\")\n",
    "dados_consolidados['SEGMENTO_INDUSTRIAL'] = dados_consolidados['SEGMENTO_INDUSTRIAL'].fillna(\"Desconhecido\")\n",
    "dados_consolidados['DOMINIO_EMAIL'] = dados_consolidados['DOMINIO_EMAIL'].fillna(\"Desconhecido\")\n",
    "dados_consolidados['PORTE'] = dados_consolidados['PORTE'].fillna(\"Desconhecido\")\n",
    "\n",
    "# Tratamento das variáveis numéricas\n",
    "dados_consolidados['RENDA_MES_ANTERIOR'] = dados_consolidados['RENDA_MES_ANTERIOR'].fillna(dados_consolidados['RENDA_MES_ANTERIOR'].median())\n",
    "dados_consolidados['NO_FUNCIONARIOS'] = dados_consolidados['NO_FUNCIONARIOS'].fillna(dados_consolidados['NO_FUNCIONARIOS'].median())\n",
    "\n",
    "# Verificação final para confirmar o tratamento de valores ausentes\n",
    "dados_consolidados.info()"
   ]
  },
  {
   "cell_type": "code",
   "execution_count": 130,
   "id": "c739b4d5-3073-4085-8e84-302e5b65fd10",
   "metadata": {},
   "outputs": [
    {
     "name": "stdout",
     "output_type": "stream",
     "text": [
      "<class 'pandas.core.frame.DataFrame'>\n",
      "RangeIndex: 77414 entries, 0 to 77413\n",
      "Columns: 197 entries, ID_CLIENTE to CEP_2_DIG_na\n",
      "dtypes: bool(184), datetime64[ns](4), float64(4), int32(2), int64(2), object(1)\n",
      "memory usage: 20.7+ MB\n"
     ]
    }
   ],
   "source": [
    "from sklearn.preprocessing import LabelEncoder\n",
    "\n",
    "# Label Encoding para variáveis binárias ou com poucos valores únicos\n",
    "label_encoder = LabelEncoder()\n",
    "dados_consolidados['FLAG_PF'] = label_encoder.fit_transform(dados_consolidados['FLAG_PF'])\n",
    "\n",
    "# One-Hot Encoding para variáveis com múltiplas categorias\n",
    "dados_consolidados = pd.get_dummies(dados_consolidados, columns=['SEGMENTO_INDUSTRIAL', 'DOMINIO_EMAIL', 'PORTE', 'DDD', 'CEP_2_DIG'])\n",
    "\n",
    "# Verificação final do DataFrame transformado\n",
    "dados_consolidados.info()"
   ]
  },
  {
   "cell_type": "code",
   "execution_count": 131,
   "id": "9da14faa-efa7-46a3-ab17-ae21a9113d12",
   "metadata": {},
   "outputs": [
    {
     "name": "stdout",
     "output_type": "stream",
     "text": [
      "Tipos de dados em base_info:\n",
      "ID_CLIENTE                     int64\n",
      "SAFRA_REF             datetime64[ns]\n",
      "RENDA_MES_ANTERIOR           float64\n",
      "NO_FUNCIONARIOS              float64\n",
      "dtype: object\n",
      "\n",
      "Tipos de dados em base_cadastral:\n",
      "ID_CLIENTE                      int64\n",
      "DATA_CADASTRO          datetime64[ns]\n",
      "DDD                            object\n",
      "FLAG_PF                        object\n",
      "SEGMENTO_INDUSTRIAL            object\n",
      "DOMINIO_EMAIL                  object\n",
      "PORTE                          object\n",
      "CEP_2_DIG                      object\n",
      "dtype: object\n",
      "\n",
      "Tipos de dados em base_pagamentos_desenvolvimento:\n",
      "ID_CLIENTE                         int64\n",
      "SAFRA_REF                 datetime64[ns]\n",
      "DATA_EMISSAO_DOCUMENTO            object\n",
      "DATA_PAGAMENTO            datetime64[ns]\n",
      "DATA_VENCIMENTO           datetime64[ns]\n",
      "VALOR_A_PAGAR                    float64\n",
      "TAXA                             float64\n",
      "ATRASO_DIAS                        int64\n",
      "INADIMPLENTE                       int32\n",
      "dtype: object\n",
      "\n",
      "Tipos de dados em base_pagamentos_teste:\n",
      "ID_CLIENTE                  int64\n",
      "SAFRA_REF                  object\n",
      "DATA_EMISSAO_DOCUMENTO     object\n",
      "DATA_VENCIMENTO            object\n",
      "VALOR_A_PAGAR             float64\n",
      "TAXA                      float64\n",
      "dtype: object\n",
      "\n",
      "Valores nulos em base_info:\n",
      "ID_CLIENTE            0\n",
      "SAFRA_REF             0\n",
      "RENDA_MES_ANTERIOR    0\n",
      "NO_FUNCIONARIOS       0\n",
      "dtype: int64\n",
      "\n",
      "Valores nulos em base_cadastral:\n",
      "ID_CLIENTE                0\n",
      "DATA_CADASTRO             0\n",
      "DDD                     237\n",
      "FLAG_PF                1249\n",
      "SEGMENTO_INDUSTRIAL      83\n",
      "DOMINIO_EMAIL            30\n",
      "PORTE                    41\n",
      "CEP_2_DIG                 0\n",
      "dtype: int64\n",
      "\n",
      "Valores nulos em base_pagamentos_desenvolvimento:\n",
      "ID_CLIENTE                0\n",
      "SAFRA_REF                 0\n",
      "DATA_EMISSAO_DOCUMENTO    0\n",
      "DATA_PAGAMENTO            0\n",
      "DATA_VENCIMENTO           0\n",
      "VALOR_A_PAGAR             0\n",
      "TAXA                      0\n",
      "ATRASO_DIAS               0\n",
      "INADIMPLENTE              0\n",
      "dtype: int64\n",
      "\n",
      "Valores nulos em base_pagamentos_teste:\n",
      "ID_CLIENTE                0\n",
      "SAFRA_REF                 0\n",
      "DATA_EMISSAO_DOCUMENTO    0\n",
      "DATA_VENCIMENTO           0\n",
      "VALOR_A_PAGAR             0\n",
      "TAXA                      0\n",
      "dtype: int64\n"
     ]
    }
   ],
   "source": [
    "# Verificar tipos de dados em cada base\n",
    "print(\"Tipos de dados em base_info:\")\n",
    "print(base_info.dtypes)\n",
    "print(\"\\nTipos de dados em base_cadastral:\")\n",
    "print(base_cadastral.dtypes)\n",
    "print(\"\\nTipos de dados em base_pagamentos_desenvolvimento:\")\n",
    "print(base_pagamentos_desenvolvimento.dtypes)\n",
    "print(\"\\nTipos de dados em base_pagamentos_teste:\")\n",
    "print(base_pagamentos_test.dtypes)\n",
    "\n",
    "# Contagem de valores nulos em cada base\n",
    "print(\"\\nValores nulos em base_info:\")\n",
    "print(base_info.isnull().sum())\n",
    "print(\"\\nValores nulos em base_cadastral:\")\n",
    "print(base_cadastral.isnull().sum())\n",
    "print(\"\\nValores nulos em base_pagamentos_desenvolvimento:\")\n",
    "print(base_pagamentos_desenvolvimento.isnull().sum())\n",
    "print(\"\\nValores nulos em base_pagamentos_teste:\")\n",
    "print(base_pagamentos_test.isnull().sum())"
   ]
  },
  {
   "cell_type": "code",
   "execution_count": 132,
   "id": "a279a788-5cb1-4510-ba59-12a26b9b507a",
   "metadata": {},
   "outputs": [],
   "source": [
    "# Ajuste dos tipos de dados na base_pagamentos_teste\n",
    "base_pagamentos_test['SAFRA_REF'] = pd.to_datetime(base_pagamentos_test['SAFRA_REF'], errors='coerce')\n",
    "base_pagamentos_test['DATA_EMISSAO_DOCUMENTO'] = pd.to_datetime(base_pagamentos_test['DATA_EMISSAO_DOCUMENTO'], errors='coerce')\n",
    "base_pagamentos_test['DATA_VENCIMENTO'] = pd.to_datetime(base_pagamentos_test['DATA_VENCIMENTO'], errors='coerce')\n",
    "\n",
    "# Preenchimento dos valores ausentes na base_cadastral\n",
    "base_cadastral = base_cadastral.assign(\n",
    "    DDD=base_cadastral['DDD'].fillna(\"Desconhecido\"),\n",
    "    FLAG_PF=base_cadastral['FLAG_PF'].fillna(\"Desconhecido\"),\n",
    "    SEGMENTO_INDUSTRIAL=base_cadastral['SEGMENTO_INDUSTRIAL'].fillna(\"Desconhecido\"),\n",
    "    DOMINIO_EMAIL=base_cadastral['DOMINIO_EMAIL'].fillna(\"Desconhecido\"),\n",
    "    PORTE=base_cadastral['PORTE'].fillna(\"Desconhecido\")\n",
    ")\n",
    "\n",
    "# Preenchimento dos valores ausentes em colunas numéricas de base_info\n",
    "base_info = base_info.assign(\n",
    "    RENDA_MES_ANTERIOR=base_info['RENDA_MES_ANTERIOR'].fillna(base_info['RENDA_MES_ANTERIOR'].median()),\n",
    "    NO_FUNCIONARIOS=base_info['NO_FUNCIONARIOS'].fillna(base_info['NO_FUNCIONARIOS'].median())\n",
    ")"
   ]
  },
  {
   "cell_type": "code",
   "execution_count": 133,
   "id": "5a70571d-07a0-4fc8-8967-72ea11933efb",
   "metadata": {},
   "outputs": [
    {
     "name": "stdout",
     "output_type": "stream",
     "text": [
      "<class 'pandas.core.frame.DataFrame'>\n",
      "RangeIndex: 73477 entries, 0 to 73476\n",
      "Data columns (total 18 columns):\n",
      " #   Column                  Non-Null Count  Dtype         \n",
      "---  ------                  --------------  -----         \n",
      " 0   ID_CLIENTE              73477 non-null  int64         \n",
      " 1   SAFRA_REF               73477 non-null  datetime64[ns]\n",
      " 2   RENDA_MES_ANTERIOR      73477 non-null  float64       \n",
      " 3   NO_FUNCIONARIOS         73477 non-null  float64       \n",
      " 4   DATA_CADASTRO           73477 non-null  datetime64[ns]\n",
      " 5   DDD                     73477 non-null  object        \n",
      " 6   FLAG_PF                 73477 non-null  object        \n",
      " 7   SEGMENTO_INDUSTRIAL     73477 non-null  object        \n",
      " 8   DOMINIO_EMAIL           73477 non-null  object        \n",
      " 9   PORTE                   73477 non-null  object        \n",
      " 10  CEP_2_DIG               73477 non-null  object        \n",
      " 11  DATA_EMISSAO_DOCUMENTO  73477 non-null  object        \n",
      " 12  DATA_PAGAMENTO          73477 non-null  datetime64[ns]\n",
      " 13  DATA_VENCIMENTO         73477 non-null  datetime64[ns]\n",
      " 14  VALOR_A_PAGAR           73477 non-null  float64       \n",
      " 15  TAXA                    73477 non-null  float64       \n",
      " 16  ATRASO_DIAS             73477 non-null  int64         \n",
      " 17  INADIMPLENTE            73477 non-null  int32         \n",
      "dtypes: datetime64[ns](4), float64(4), int32(1), int64(2), object(7)\n",
      "memory usage: 9.8+ MB\n"
     ]
    }
   ],
   "source": [
    "# Unindo base_info e base_cadastral pelo ID_CLIENTE\n",
    "dados_unificados = pd.merge(base_info, base_cadastral, on='ID_CLIENTE', how='left')\n",
    "\n",
    "# Unindo o resultado com a base_pagamentos_desenvolvimento pelo ID_CLIENTE e SAFRA_REF\n",
    "dados_unificados = pd.merge(dados_unificados, base_pagamentos_desenvolvimento, on=['ID_CLIENTE', 'SAFRA_REF'], how='inner')\n",
    "\n",
    "# Conferindo o resultado\n",
    "dados_unificados.info()"
   ]
  },
  {
   "cell_type": "code",
   "execution_count": 134,
   "id": "b9d82591-ae8a-4007-9d4f-5016b1fcc8b4",
   "metadata": {},
   "outputs": [],
   "source": [
    "# Convertendo colunas de data para o formato datetime\n",
    "dados_unificados['DATA_EMISSAO_DOCUMENTO'] = pd.to_datetime(dados_unificados['DATA_EMISSAO_DOCUMENTO'], errors='coerce')\n",
    "dados_unificados['DATA_PAGAMENTO'] = pd.to_datetime(dados_unificados['DATA_PAGAMENTO'], errors='coerce')\n",
    "dados_unificados['DATA_VENCIMENTO'] = pd.to_datetime(dados_unificados['DATA_VENCIMENTO'], errors='coerce')\n",
    "\n",
    "# Verificando novamente se a conversão resolveu o problema e recriando as novas features\n",
    "dados_unificados['tempo_cliente'] = (dados_unificados['SAFRA_REF'] - dados_unificados['DATA_CADASTRO']).dt.days\n",
    "dados_unificados['tempo_emissao_pagamento'] = (dados_unificados['DATA_PAGAMENTO'] - dados_unificados['DATA_EMISSAO_DOCUMENTO']).dt.days"
   ]
  },
  {
   "cell_type": "code",
   "execution_count": 135,
   "id": "efc933ad-1071-4d88-8cd1-b4da9de5e9ba",
   "metadata": {},
   "outputs": [
    {
     "name": "stdout",
     "output_type": "stream",
     "text": [
      "<class 'pandas.core.frame.DataFrame'>\n",
      "RangeIndex: 73477 entries, 0 to 73476\n",
      "Data columns (total 20 columns):\n",
      " #   Column                   Non-Null Count  Dtype         \n",
      "---  ------                   --------------  -----         \n",
      " 0   ID_CLIENTE               73477 non-null  int64         \n",
      " 1   SAFRA_REF                73477 non-null  datetime64[ns]\n",
      " 2   RENDA_MES_ANTERIOR       73477 non-null  float64       \n",
      " 3   NO_FUNCIONARIOS          73477 non-null  float64       \n",
      " 4   DATA_CADASTRO            73477 non-null  datetime64[ns]\n",
      " 5   DDD                      73477 non-null  object        \n",
      " 6   FLAG_PF                  73477 non-null  object        \n",
      " 7   SEGMENTO_INDUSTRIAL      73477 non-null  object        \n",
      " 8   DOMINIO_EMAIL            73477 non-null  object        \n",
      " 9   PORTE                    73477 non-null  object        \n",
      " 10  CEP_2_DIG                73477 non-null  object        \n",
      " 11  DATA_EMISSAO_DOCUMENTO   73477 non-null  datetime64[ns]\n",
      " 12  DATA_PAGAMENTO           73477 non-null  datetime64[ns]\n",
      " 13  DATA_VENCIMENTO          73477 non-null  datetime64[ns]\n",
      " 14  VALOR_A_PAGAR            73477 non-null  float64       \n",
      " 15  TAXA                     73477 non-null  float64       \n",
      " 16  ATRASO_DIAS              73477 non-null  int64         \n",
      " 17  INADIMPLENTE             73477 non-null  int32         \n",
      " 18  tempo_cliente            73477 non-null  int64         \n",
      " 19  tempo_emissao_pagamento  73477 non-null  int64         \n",
      "dtypes: datetime64[ns](5), float64(4), int32(1), int64(4), object(6)\n",
      "memory usage: 10.9+ MB\n"
     ]
    }
   ],
   "source": [
    "dados_unificados.info()"
   ]
  },
  {
   "cell_type": "code",
   "execution_count": 136,
   "id": "c37279f0-c2f9-442f-910e-a63b88b80870",
   "metadata": {},
   "outputs": [],
   "source": [
    "# Aplicando One-Hot Encoding às variáveis categóricas\n",
    "dados_unificados = pd.get_dummies(\n",
    "    dados_unificados, \n",
    "    columns=['DDD', 'FLAG_PF', 'SEGMENTO_INDUSTRIAL', 'DOMINIO_EMAIL', 'PORTE', 'CEP_2_DIG'], \n",
    "    drop_first=True\n",
    ")"
   ]
  },
  {
   "cell_type": "markdown",
   "id": "79d6468c-d0c1-4043-9b0c-2f590072a7cc",
   "metadata": {},
   "source": [
    "# Modelo"
   ]
  },
  {
   "cell_type": "code",
   "execution_count": 138,
   "id": "882242fe-9316-42e2-95d0-e95d4c218c0c",
   "metadata": {},
   "outputs": [],
   "source": [
    "from sklearn.model_selection import train_test_split\n",
    "\n",
    "# Definindo variáveis preditoras e o target\n",
    "X = dados_unificados.drop(columns=['INADIMPLENTE'])\n",
    "y = dados_unificados['INADIMPLENTE']\n",
    "\n",
    "# Dividindo o conjunto de treino e validação\n",
    "X_train, X_val, y_train, y_val = train_test_split(X, y, test_size=0.2, random_state=42)"
   ]
  },
  {
   "cell_type": "code",
   "execution_count": 139,
   "id": "ae9a2772-d5f8-4c43-9d1a-b512bf697eb8",
   "metadata": {},
   "outputs": [],
   "source": [
    "# Identificando as colunas de data em X_train\n",
    "date_cols = X_train.select_dtypes(include=['datetime']).columns\n",
    "\n",
    "# Removendo as colunas de data\n",
    "X_train = X_train.drop(columns=date_cols)\n",
    "X_val = X_val.drop(columns=date_cols)"
   ]
  },
  {
   "cell_type": "code",
   "execution_count": 140,
   "id": "00e62b17-97b5-4b8b-9870-d64c580110c7",
   "metadata": {},
   "outputs": [
    {
     "name": "stdout",
     "output_type": "stream",
     "text": [
      "Correlação entre ATRASO_DIAS e INADIMPLENTE: 0.19952474580206253\n"
     ]
    }
   ],
   "source": [
    "# Entendendo a correlação da variável ATRASO_DIAS\n",
    "correlation = X_train['ATRASO_DIAS'].corr(y_train)\n",
    "print(f'Correlação entre ATRASO_DIAS e INADIMPLENTE: {correlation}')"
   ]
  },
  {
   "cell_type": "code",
   "execution_count": 141,
   "id": "5359c814-aac8-4cd2-b85a-44d9e1528058",
   "metadata": {},
   "outputs": [
    {
     "name": "stdout",
     "output_type": "stream",
     "text": [
      "Requirement already satisfied: xgboost in c:\\users\\victor\\anaconda3\\lib\\site-packages (2.1.2)\n",
      "Requirement already satisfied: numpy in c:\\users\\victor\\anaconda3\\lib\\site-packages (from xgboost) (1.26.4)\n",
      "Requirement already satisfied: scipy in c:\\users\\victor\\anaconda3\\lib\\site-packages (from xgboost) (1.13.1)\n",
      "Note: you may need to restart the kernel to use updated packages.\n"
     ]
    }
   ],
   "source": [
    "pip install xgboost"
   ]
  },
  {
   "cell_type": "code",
   "execution_count": 142,
   "id": "cf4df354-dc84-4854-a9ba-efdf5db51032",
   "metadata": {},
   "outputs": [
    {
     "name": "stdout",
     "output_type": "stream",
     "text": [
      "              precision    recall  f1-score   support\n",
      "\n",
      "           0       0.98      0.99      0.99     13652\n",
      "           1       0.87      0.79      0.82      1044\n",
      "\n",
      "    accuracy                           0.98     14696\n",
      "   macro avg       0.92      0.89      0.91     14696\n",
      "weighted avg       0.98      0.98      0.98     14696\n",
      "\n"
     ]
    }
   ],
   "source": [
    "import xgboost as xgb\n",
    "from sklearn.model_selection import cross_val_score\n",
    "from xgboost import XGBClassifier\n",
    "from xgboost import XGBClassifier\n",
    "from sklearn.metrics import classification_report, confusion_matrix, roc_auc_score\n",
    "\n",
    "X_train_reduced = X_train.drop(columns=['ATRASO_DIAS'])\n",
    "X_val_reduced = X_val.drop(columns=['ATRASO_DIAS'])\n",
    "\n",
    "# Treinando o modelo\n",
    "xgb_model_reduced = xgb.XGBClassifier(random_state=42)\n",
    "xgb_model_reduced.fit(X_train_reduced, y_train)\n",
    "\n",
    "# Avaliação\n",
    "y_val_pred_reduced = xgb_model_reduced.predict(X_val_reduced)\n",
    "print(classification_report(y_val, y_val_pred_reduced))"
   ]
  },
  {
   "cell_type": "code",
   "execution_count": 143,
   "id": "dcfcc88f-135c-4286-87e6-2abf62086845",
   "metadata": {},
   "outputs": [
    {
     "data": {
      "image/png": "[encoded data removed]",
      "text/plain": [
       "<Figure size 700x600 with 1 Axes>"
      ]
     },
     "metadata": {},
     "output_type": "display_data"
    }
   ],
   "source": [
    "import xgboost as xgb\n",
    "import seaborn as sns\n",
    "import matplotlib.pyplot as plt\n",
    "from sklearn.metrics import confusion_matrix\n",
    "\n",
    "# Gerar as previsões no conjunto de validação usando o modelo ajustado\n",
    "y_val_pred_reduced = xgb_model_reduced.predict(X_val_reduced)\n",
    "\n",
    "# Gerar a matriz de confusão\n",
    "cm = confusion_matrix(y_val, y_val_pred_reduced)\n",
    "\n",
    "# Plot do gráfico\n",
    "plt.figure(figsize=(7, 6))\n",
    "sns.heatmap(cm, annot=True, fmt='g', cmap='Blues', xticklabels=['Não Inadimplente', 'Inadimplente'], yticklabels=['Não Inadimplente', 'Inadimplente'], cbar=False)\n",
    "\n",
    "# Títulos e rótulos\n",
    "plt.title('Matriz de Confusão')\n",
    "plt.xlabel('Previsões')\n",
    "plt.ylabel('Valores Reais')\n",
    "\n",
    "# Exibir o gráfico\n",
    "plt.show()\n"
   ]
  },
  {
   "cell_type": "markdown",
   "id": "6d9c333a-d5e2-49be-9e87-a87d103e459d",
   "metadata": {},
   "source": [
    "# Transformação da base de dados de teste para o modelo ser testado"
   ]
  },
  {
   "cell_type": "code",
   "execution_count": 145,
   "id": "da2d9f4c-6fcf-4599-b360-506ce373e42c",
   "metadata": {},
   "outputs": [
    {
     "name": "stdout",
     "output_type": "stream",
     "text": [
      "<class 'pandas.core.frame.DataFrame'>\n",
      "RangeIndex: 12275 entries, 0 to 12274\n",
      "Data columns (total 6 columns):\n",
      " #   Column                  Non-Null Count  Dtype         \n",
      "---  ------                  --------------  -----         \n",
      " 0   ID_CLIENTE              12275 non-null  int64         \n",
      " 1   SAFRA_REF               12275 non-null  datetime64[ns]\n",
      " 2   DATA_EMISSAO_DOCUMENTO  12275 non-null  datetime64[ns]\n",
      " 3   DATA_VENCIMENTO         12275 non-null  datetime64[ns]\n",
      " 4   VALOR_A_PAGAR           12275 non-null  float64       \n",
      " 5   TAXA                    12275 non-null  float64       \n",
      "dtypes: datetime64[ns](3), float64(2), int64(1)\n",
      "memory usage: 575.5 KB\n"
     ]
    }
   ],
   "source": [
    "base_pagamentos_test.info()"
   ]
  },
  {
   "cell_type": "code",
   "execution_count": 146,
   "id": "9bfb57da-729d-4281-a2dd-be71de27fbe3",
   "metadata": {},
   "outputs": [],
   "source": [
    "import pandas as pd\n",
    "from sklearn.model_selection import train_test_split\n",
    "\n",
    "# Separando variáveis preditoras e alvo na base unificada\n",
    "X = dados_unificados.drop(columns=['INADIMPLENTE'])\n",
    "y = dados_unificados['INADIMPLENTE']\n",
    "\n",
    "# Dividindo o conjunto de dados em treino e validação\n",
    "X_train, X_val, y_train, y_val = train_test_split(X, y, test_size=0.2, random_state=42)\n",
    "\n",
    "# Obtendo as colunas do treino para alinhar a base de teste\n",
    "colunas_treino = X_train.columns\n",
    "\n",
    "# Alinhando as colunas da base de teste com as do treino\n",
    "base_pagamentos_test_alinhado = base_pagamentos_test.reindex(columns=colunas_treino, fill_value=0)"
   ]
  },
  {
   "cell_type": "code",
   "execution_count": 147,
   "id": "c1259e9f-7f2f-47ea-8074-74c05f634575",
   "metadata": {},
   "outputs": [
    {
     "data": {
      "text/plain": [
       "Index(['ID_CLIENTE', 'SAFRA_REF', 'RENDA_MES_ANTERIOR', 'NO_FUNCIONARIOS',\n",
       "       'DATA_CADASTRO', 'DATA_EMISSAO_DOCUMENTO', 'DATA_PAGAMENTO',\n",
       "       'DATA_VENCIMENTO', 'VALOR_A_PAGAR', 'TAXA',\n",
       "       ...\n",
       "       'CEP_2_DIG_91', 'CEP_2_DIG_92', 'CEP_2_DIG_93', 'CEP_2_DIG_94',\n",
       "       'CEP_2_DIG_95', 'CEP_2_DIG_96', 'CEP_2_DIG_97', 'CEP_2_DIG_98',\n",
       "       'CEP_2_DIG_99', 'CEP_2_DIG_na'],\n",
       "      dtype='object', length=193)"
      ]
     },
     "execution_count": 147,
     "metadata": {},
     "output_type": "execute_result"
    }
   ],
   "source": [
    "base_pagamentos_test_alinhado.columns"
   ]
  },
  {
   "cell_type": "code",
   "execution_count": 148,
   "id": "3fa087f6-532d-4ac1-999f-e77a987d48c5",
   "metadata": {},
   "outputs": [],
   "source": [
    "# Removendo colunas irrelevantes da base de teste alinhada\n",
    "colunas_irrelevantes = ['ID_CLIENTE', 'SAFRA_REF', 'DATA_CADASTRO', 'DATA_EMISSAO_DOCUMENTO', \n",
    "                        'DATA_PAGAMENTO', 'DATA_VENCIMENTO']\n",
    "\n",
    "# Removendo essas colunas da base de teste alinhada\n",
    "base_pagamentos_test_alinhado = base_pagamentos_test_alinhado.drop(columns=colunas_irrelevantes, errors='ignore')\n",
    "\n",
    "# Verificando se as colunas restantes estão alinhadas com X_train\n",
    "base_pagamentos_test_alinhado = base_pagamentos_test_alinhado.reindex(columns=X_train.columns, fill_value=0)"
   ]
  },
  {
   "cell_type": "code",
   "execution_count": 149,
   "id": "16272416-e26f-44b2-9ee4-5cc733b76b36",
   "metadata": {},
   "outputs": [
    {
     "data": {
      "text/plain": [
       "Index(['ID_CLIENTE', 'SAFRA_REF', 'RENDA_MES_ANTERIOR', 'NO_FUNCIONARIOS',\n",
       "       'DATA_CADASTRO', 'DATA_EMISSAO_DOCUMENTO', 'DATA_PAGAMENTO',\n",
       "       'DATA_VENCIMENTO', 'VALOR_A_PAGAR', 'TAXA',\n",
       "       ...\n",
       "       'CEP_2_DIG_91', 'CEP_2_DIG_92', 'CEP_2_DIG_93', 'CEP_2_DIG_94',\n",
       "       'CEP_2_DIG_95', 'CEP_2_DIG_96', 'CEP_2_DIG_97', 'CEP_2_DIG_98',\n",
       "       'CEP_2_DIG_99', 'CEP_2_DIG_na'],\n",
       "      dtype='object', length=193)"
      ]
     },
     "execution_count": 149,
     "metadata": {},
     "output_type": "execute_result"
    }
   ],
   "source": [
    "base_pagamentos_test_alinhado.columns"
   ]
  },
  {
   "cell_type": "code",
   "execution_count": 150,
   "id": "da64d419-9eee-4451-a604-3e711f6e376b",
   "metadata": {},
   "outputs": [
    {
     "data": {
      "text/plain": [
       "Index(['ID_CLIENTE', 'SAFRA_REF', 'RENDA_MES_ANTERIOR', 'NO_FUNCIONARIOS',\n",
       "       'DATA_CADASTRO', 'DATA_EMISSAO_DOCUMENTO', 'DATA_PAGAMENTO',\n",
       "       'DATA_VENCIMENTO', 'VALOR_A_PAGAR', 'TAXA',\n",
       "       ...\n",
       "       'CEP_2_DIG_91', 'CEP_2_DIG_92', 'CEP_2_DIG_93', 'CEP_2_DIG_94',\n",
       "       'CEP_2_DIG_95', 'CEP_2_DIG_96', 'CEP_2_DIG_97', 'CEP_2_DIG_98',\n",
       "       'CEP_2_DIG_99', 'CEP_2_DIG_na'],\n",
       "      dtype='object', length=194)"
      ]
     },
     "execution_count": 150,
     "metadata": {},
     "output_type": "execute_result"
    }
   ],
   "source": [
    "    dados_unificados.columns"
   ]
  },
  {
   "cell_type": "code",
   "execution_count": 151,
   "id": "3b475af0-78a4-40e9-bf42-09f7a2c52d2c",
   "metadata": {},
   "outputs": [],
   "source": [
    "# Identificando colunas que estão na base de treino, mas não na base de teste\n",
    "colunas_extras = set(dados_unificados.columns) - set(base_pagamentos_test_alinhado.columns)\n",
    "\n",
    "# Removendo essas colunas da base de treino para alinhar com a base de teste\n",
    "dados_unificados_alinhado = dados_unificados.drop(columns=list(colunas_extras))"
   ]
  },
  {
   "cell_type": "code",
   "execution_count": 152,
   "id": "f4a9f734-fa8c-47bf-9ab5-76f13e89e3c3",
   "metadata": {},
   "outputs": [
    {
     "name": "stdout",
     "output_type": "stream",
     "text": [
      "Colunas de treino: Index(['ID_CLIENTE', 'SAFRA_REF', 'RENDA_MES_ANTERIOR', 'NO_FUNCIONARIOS',\n",
      "       'DATA_CADASTRO', 'DATA_EMISSAO_DOCUMENTO', 'DATA_PAGAMENTO',\n",
      "       'DATA_VENCIMENTO', 'VALOR_A_PAGAR', 'TAXA',\n",
      "       ...\n",
      "       'CEP_2_DIG_91', 'CEP_2_DIG_92', 'CEP_2_DIG_93', 'CEP_2_DIG_94',\n",
      "       'CEP_2_DIG_95', 'CEP_2_DIG_96', 'CEP_2_DIG_97', 'CEP_2_DIG_98',\n",
      "       'CEP_2_DIG_99', 'CEP_2_DIG_na'],\n",
      "      dtype='object', length=193)\n",
      "Colunas de teste: Index(['ID_CLIENTE', 'SAFRA_REF', 'RENDA_MES_ANTERIOR', 'NO_FUNCIONARIOS',\n",
      "       'DATA_CADASTRO', 'DATA_EMISSAO_DOCUMENTO', 'DATA_PAGAMENTO',\n",
      "       'DATA_VENCIMENTO', 'VALOR_A_PAGAR', 'TAXA',\n",
      "       ...\n",
      "       'CEP_2_DIG_91', 'CEP_2_DIG_92', 'CEP_2_DIG_93', 'CEP_2_DIG_94',\n",
      "       'CEP_2_DIG_95', 'CEP_2_DIG_96', 'CEP_2_DIG_97', 'CEP_2_DIG_98',\n",
      "       'CEP_2_DIG_99', 'CEP_2_DIG_na'],\n",
      "      dtype='object', length=193)\n"
     ]
    }
   ],
   "source": [
    "print(f\"Colunas de treino: {dados_unificados_alinhado.columns}\")\n",
    "print(f\"Colunas de teste: {base_pagamentos_test_alinhado.columns}\")"
   ]
  },
  {
   "cell_type": "code",
   "execution_count": 153,
   "id": "63a9ecd4-1d80-49ab-bc65-316a6bc42f64",
   "metadata": {},
   "outputs": [],
   "source": [
    "# Obtendo as colunas da base de treino reduzida (usada para treinar o modelo)\n",
    "colunas_treino = X_train_reduced.columns\n",
    "\n",
    "# Ajustando a base de teste para ter as mesmas colunas, na mesma ordem\n",
    "base_pagamentos_test_alinhado = base_pagamentos_test_alinhado.reindex(columns=colunas_treino, fill_value=0)"
   ]
  },
  {
   "cell_type": "code",
   "execution_count": 154,
   "id": "a805aeeb-2a61-48f5-80b4-c30d163a8d58",
   "metadata": {},
   "outputs": [],
   "source": [
    "# Gerando previsões de probabilidade para a base de teste\n",
    "base_pagamentos_test_alinhado['INADIMPLENTE'] = xgb_model_reduced.predict_proba(base_pagamentos_test_alinhado)[:, 1]"
   ]
  },
  {
   "cell_type": "markdown",
   "id": "fcdc34c6-5116-40bf-ae57-f9a528066d35",
   "metadata": {},
   "source": [
    "Código para gerar o arquivo .csv com o resultado"
   ]
  },
  {
   "cell_type": "code",
   "execution_count": 156,
   "id": "6c048b1e-d837-4c71-9ebe-eaeaaa1cf567",
   "metadata": {},
   "outputs": [],
   "source": [
    "# Supondo que ID_CLIENTE está presente, extraia-o para o resultado final\n",
    "#ids = base_pagamentos_test_alinhado[['ID_CLIENTE']].copy()\n",
    "\n",
    "# Alinhar as colunas para o modelo, sem 'SAFRA_REF' se ela estiver ausente\n",
    "#colunas_treino = X_train_reduced.columns\n",
    "#base_pagamentos_test_alinhado = base_pagamentos_test_alinhado.reindex(columns=colunas_treino, fill_value=0)\n",
    "\n",
    "# Gerar as previsões de probabilidade\n",
    "#ids['INADIMPLENTE'] = xgb_model_reduced.predict_proba(base_pagamentos_test_alinhado)[:, 1]\n",
    "\n",
    "# Salvar o resultado sem 'SAFRA_REF' se ela não estiver disponível\n",
    "#ids.to_csv('previsao_inadimplencia.csv', index=False)"
   ]
  },
  {
   "cell_type": "markdown",
   "id": "f6ca30ce-42e3-41d9-8b70-824f9a6c0627",
   "metadata": {},
   "source": [
    "# Considerações finais:\n"
   ]
  },
  {
   "cell_type": "markdown",
   "id": "a691987c-d361-4496-8aaf-94116e743a93",
   "metadata": {},
   "source": [
    "Este foi meu primeiro modelo de risco de crédito, e com ele levo muito aprendizado. Fiz todo o pré-processamento pensando num problema de classificação com o intuito do modelo gerar resultados 0 ou 1 para prever INADIMPLENTE. Isso acabou me gerando problemas para entregar o resultado como probabilidade depois, gerando o arquivo csv solicitado no enunciado."
   ]
  }
 ],
 "metadata": {
  "kernelspec": {
   "display_name": "Python 3 (ipykernel)",
   "language": "python",
   "name": "python3"
  },
  "language_info": {
   "codemirror_mode": {
    "name": "ipython",
    "version": 3
   },
   "file_extension": ".py",
   "mimetype": "text/x-python",
   "name": "python",
   "nbconvert_exporter": "python",
   "pygments_lexer": "ipython3",
   "version": "3.12.4"
  }
 },
 "nbformat": 4,
 "nbformat_minor": 5
}
